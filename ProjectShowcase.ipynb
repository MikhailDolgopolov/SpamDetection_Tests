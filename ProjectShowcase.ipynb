{
 "cells": [
  {
   "metadata": {},
   "cell_type": "markdown",
   "source": [
    "# Email Spam Detection Pipeline\n",
    "\n",
    "This notebook demonstrates how a **single Python package** (`src/`) can\n",
    "handle:\n",
    "\n",
    "* configuration via YAML\n",
    "* data loading & merging\n",
    "* pipeline construction + hyper‑parameter search\n",
    "* evaluation and model persistence\n",
    "\n",
    "The core script is `run.py` – the notebook simply calls the same helper\n",
    "functions, but with added visualisation.  The code structure follows:\n"
   ],
   "id": "f71ce2cc932442d3"
  },
  {
   "metadata": {},
   "cell_type": "markdown",
   "source": [
    "src\n",
    "\n",
    "├── init.py\n",
    "\n",
    "├── config.py  # load_experiment_config & helpers\n",
    "\n",
    "├── data_loader.py  # download_and_merge / split\n",
    "\n",
    "├── model_builder.py  # build_pipeline + build_grid_search\n",
    "\n",
    "└── trainer.py  # fit_and_evaluate + save_model"
   ],
   "id": "a000df282c551543"
  },
  {
   "metadata": {},
   "cell_type": "markdown",
   "source": [
    "\n",
    "The experiments live in `experiments/<run_XX>/` – each run has its own folder with a config file and results."
   ],
   "id": "37f104d2307dc1d7"
  },
  {
   "metadata": {
    "ExecuteTime": {
     "end_time": "2025-08-13T05:05:13.059370Z",
     "start_time": "2025-08-13T05:05:13.053990Z"
    }
   },
   "cell_type": "code",
   "source": [
    "# ---- Imports --------------------------------------------------------------\n",
    "import json\n",
    "from pathlib import Path\n",
    "from glob import glob\n",
    "from typing import Dict, Any, List\n",
    "\n",
    "import matplotlib.pyplot as plt\n",
    "import numpy as np\n",
    "import pandas as pd\n",
    "import seaborn as sns\n",
    "\n",
    "\n",
    "pd.set_option(\"display.max_colwidth\", None)\n",
    "pd.set_option(\"display.max_seq_items\", None)        # shows every element in a list/tuple\n",
    "\n",
    "pd.set_option(\"display.expand_frame_repr\", False)"
   ],
   "id": "ed3c53825a607fef",
   "outputs": [],
   "execution_count": 29
  },
  {
   "metadata": {
    "ExecuteTime": {
     "end_time": "2025-08-13T08:19:47.918144Z",
     "start_time": "2025-08-13T08:19:47.888321Z"
    }
   },
   "cell_type": "code",
   "source": [
    "from src.utils import load_json\n",
    "\n",
    "final_dirs = Path(\"experiments/\").glob(\"*/final\")\n",
    "rows: List[Dict[str, Any]] = []\n",
    "for final_dir in final_dirs:\n",
    "    exp_dir = final_dir.parent\n",
    "    name = exp_dir.name\n",
    "    training_metrics = load_json(final_dir / \"train_metrics.json\") or load_json(final_dir / \"training_metrics.json\")\n",
    "    inference_metrics = load_json(final_dir / \"inference_metrics.json\")\n",
    "    results = load_json(exp_dir / \"results.json\")  # original grid search results, optional\n",
    "    best_params = load_json(exp_dir / \"best_params.json\")\n",
    "\n",
    "    row: Dict[str, Any] = {\"experiment\": name}\n",
    "\n",
    "    if training_metrics:\n",
    "        # row[\"train_total_sec\"] = training_metrics.get(\"total_training_time_sec\")\n",
    "        row[\"train_sps\"] = training_metrics.get(\"time_per_sample_sec\")\n",
    "        # row[\"n_train_samples\"] = training_metrics.get(\"num_samples\")\n",
    "        row[\"model_size_mb\"] = training_metrics.get(\"model_file_size_mb\")\n",
    "        \n",
    "        report = training_metrics.get(\"overfit_classification_report\")\n",
    "        row[\"train_accuracy\"] = report.get(\"accuracy\", np.nan)\n",
    "        row[\"train_weighted_f1\"] = report.get(\"weighted avg\", {}).get(\"f1-score\", np.nan)\n",
    "        # row[\"train_macro_f1\"] = report.get(\"macro avg\", {}).get(\"f1-score\", np.nan)\n",
    "\n",
    "    if inference_metrics:\n",
    "        # row[\"val_auc\"] = inference_metrics.get(\"auc\", np.nan)\n",
    "        row[\"per_sample_ms\"] = inference_metrics.get(\"per_sample_median_ms\", np.nan)\n",
    "\n",
    "        report = inference_metrics.get(\"classification_report\", {})\n",
    "        row[\"val_accuracy\"] = report.get(\"accuracy\", np.nan)\n",
    "        row[\"val_weighted_f1\"] = report.get(\"weighted avg\", {}).get(\"f1-score\", np.nan)\n",
    "\n",
    "    rows.append(row)\n",
    "\n",
    "\n",
    "results_df = pd.DataFrame(rows)\n",
    "results_df[\"clf\"] = results_df[\"experiment\"].apply(lambda x: x.split(\"_\")[1])\n",
    "results_df[\"f1_score\"] = results_df[\"val_weighted_f1\"]/results_df[\"train_weighted_f1\"]\n",
    "results_df[\"acc_score\"] = results_df[\"val_accuracy\"]/results_df[\"train_accuracy\"]\n",
    "results_df"
   ],
   "id": "8258a97d3caf5f",
   "outputs": [
    {
     "data": {
      "text/plain": [
       "         experiment  train_sps  model_size_mb  train_accuracy  train_weighted_f1  per_sample_ms  val_accuracy  val_weighted_f1     clf  f1_score  acc_score\n",
       "0  minisbert_LogReg   0.008305      87.163617        0.991022           0.990979       21.71770         0.764         0.765298  LogReg  0.772264   0.770921\n",
       "1      SBERT_LogReg   0.091880     418.211255        0.999291           0.999291      157.73990         0.764         0.765191  LogReg  0.765734   0.764542\n",
       "2         sbert_SVC   0.009074      87.164929        0.991258           0.991219       21.24165         0.759         0.760379     SVC  0.767115   0.765694\n",
       "3          TFIDF_NB   0.000227       5.247895        0.997637           0.997630        1.25480         0.856         0.858300      NB  0.860339   0.858027\n",
       "4         TFIDF_SVC   0.000490      19.200761        1.000000           1.000000        0.55225         0.796         0.793175     SVC  0.793175   0.796000"
      ],
      "text/html": [
       "<div>\n",
       "<style scoped>\n",
       "    .dataframe tbody tr th:only-of-type {\n",
       "        vertical-align: middle;\n",
       "    }\n",
       "\n",
       "    .dataframe tbody tr th {\n",
       "        vertical-align: top;\n",
       "    }\n",
       "\n",
       "    .dataframe thead th {\n",
       "        text-align: right;\n",
       "    }\n",
       "</style>\n",
       "<table border=\"1\" class=\"dataframe\">\n",
       "  <thead>\n",
       "    <tr style=\"text-align: right;\">\n",
       "      <th></th>\n",
       "      <th>experiment</th>\n",
       "      <th>train_sps</th>\n",
       "      <th>model_size_mb</th>\n",
       "      <th>train_accuracy</th>\n",
       "      <th>train_weighted_f1</th>\n",
       "      <th>per_sample_ms</th>\n",
       "      <th>val_accuracy</th>\n",
       "      <th>val_weighted_f1</th>\n",
       "      <th>clf</th>\n",
       "      <th>f1_score</th>\n",
       "      <th>acc_score</th>\n",
       "    </tr>\n",
       "  </thead>\n",
       "  <tbody>\n",
       "    <tr>\n",
       "      <th>0</th>\n",
       "      <td>minisbert_LogReg</td>\n",
       "      <td>0.008305</td>\n",
       "      <td>87.163617</td>\n",
       "      <td>0.991022</td>\n",
       "      <td>0.990979</td>\n",
       "      <td>21.71770</td>\n",
       "      <td>0.764</td>\n",
       "      <td>0.765298</td>\n",
       "      <td>LogReg</td>\n",
       "      <td>0.772264</td>\n",
       "      <td>0.770921</td>\n",
       "    </tr>\n",
       "    <tr>\n",
       "      <th>1</th>\n",
       "      <td>SBERT_LogReg</td>\n",
       "      <td>0.091880</td>\n",
       "      <td>418.211255</td>\n",
       "      <td>0.999291</td>\n",
       "      <td>0.999291</td>\n",
       "      <td>157.73990</td>\n",
       "      <td>0.764</td>\n",
       "      <td>0.765191</td>\n",
       "      <td>LogReg</td>\n",
       "      <td>0.765734</td>\n",
       "      <td>0.764542</td>\n",
       "    </tr>\n",
       "    <tr>\n",
       "      <th>2</th>\n",
       "      <td>sbert_SVC</td>\n",
       "      <td>0.009074</td>\n",
       "      <td>87.164929</td>\n",
       "      <td>0.991258</td>\n",
       "      <td>0.991219</td>\n",
       "      <td>21.24165</td>\n",
       "      <td>0.759</td>\n",
       "      <td>0.760379</td>\n",
       "      <td>SVC</td>\n",
       "      <td>0.767115</td>\n",
       "      <td>0.765694</td>\n",
       "    </tr>\n",
       "    <tr>\n",
       "      <th>3</th>\n",
       "      <td>TFIDF_NB</td>\n",
       "      <td>0.000227</td>\n",
       "      <td>5.247895</td>\n",
       "      <td>0.997637</td>\n",
       "      <td>0.997630</td>\n",
       "      <td>1.25480</td>\n",
       "      <td>0.856</td>\n",
       "      <td>0.858300</td>\n",
       "      <td>NB</td>\n",
       "      <td>0.860339</td>\n",
       "      <td>0.858027</td>\n",
       "    </tr>\n",
       "    <tr>\n",
       "      <th>4</th>\n",
       "      <td>TFIDF_SVC</td>\n",
       "      <td>0.000490</td>\n",
       "      <td>19.200761</td>\n",
       "      <td>1.000000</td>\n",
       "      <td>1.000000</td>\n",
       "      <td>0.55225</td>\n",
       "      <td>0.796</td>\n",
       "      <td>0.793175</td>\n",
       "      <td>SVC</td>\n",
       "      <td>0.793175</td>\n",
       "      <td>0.796000</td>\n",
       "    </tr>\n",
       "  </tbody>\n",
       "</table>\n",
       "</div>"
      ]
     },
     "execution_count": 43,
     "metadata": {},
     "output_type": "execute_result"
    }
   ],
   "execution_count": 43
  },
  {
   "metadata": {},
   "cell_type": "markdown",
   "source": [
    "Соотношение оценок валидации и обучения позволяет оценить обобщающую способность каждой модели. Соотношение, близкое к 1, указывает на хорошую обобщающую способность.\n",
    "\n",
    "Судя по результатам, модель **TFIDF_NB** достигла наивысшей точности валидации (85,6%) и взвешенной оценки F1 (85,8%) при небольшом размере модели (5,25 МБ).\n",
    "Использование более крупной модели векторизации в **SBERT_LogReg** (относительно minisbert_LogReg) не принесло желаемого увеличения в метриках, модель только стала больше по объёму.\n",
    "\n",
    "По какой-то причине использование более сложных методов векторизации не привело к улучшению метрик, и в изученном пространстве моделей и их параметров лучшим пайплайном оказалось использование векторизации TfIdf и метода Наивного Байеса для классификации.\n"
   ],
   "id": "c27ef7ababa9a6ea"
  },
  {
   "metadata": {
    "ExecuteTime": {
     "end_time": "2025-08-13T08:46:10.841853Z",
     "start_time": "2025-08-13T08:46:10.794970Z"
    }
   },
   "cell_type": "code",
   "source": [
    "import plotly.express as px\n",
    "\n",
    "# df: your summary dataframe with columns 'model_size_mb_train' and 'val_accuracy'\n",
    "fig = px.scatter(\n",
    "    results_df,\n",
    "    x='per_sample_ms',\n",
    "    y='f1_score',\n",
    "    # size='model_size_mb',\n",
    "    color='clf',\n",
    "    hover_data=['experiment'],  # show name on hover\n",
    "\n",
    "\n",
    ")\n",
    "fig.update_xaxes(type=\"log\")\n",
    "fig.update_layout(width=800, height=600)\n",
    "fig.show()"
   ],
   "id": "89021c7d22a90fd5",
   "outputs": [
    {
     "data": {
      "application/vnd.plotly.v1+json": {
       "data": [
        {
         "customdata": [
          [
           "minisbert_LogReg"
          ],
          [
           "SBERT_LogReg"
          ]
         ],
         "hovertemplate": "clf=LogReg<br>per_sample_ms=%{x}<br>f1_score=%{y}<br>experiment=%{customdata[0]}<extra></extra>",
         "legendgroup": "LogReg",
         "marker": {
          "color": "#636efa",
          "symbol": "circle"
         },
         "mode": "markers",
         "name": "LogReg",
         "orientation": "v",
         "showlegend": true,
         "x": {
          "dtype": "f8",
          "bdata": "ACTsL7u3NUCA7MNCrbdjQA=="
         },
         "xaxis": "x",
         "y": {
          "dtype": "f8",
          "bdata": "WsJJxGO26D9dsfpy5IDoPw=="
         },
         "yaxis": "y",
         "type": "scatter"
        },
        {
         "customdata": [
          [
           "sbert_SVC"
          ],
          [
           "TFIDF_SVC"
          ]
         ],
         "hovertemplate": "clf=SVC<br>per_sample_ms=%{x}<br>f1_score=%{y}<br>experiment=%{customdata[0]}<extra></extra>",
         "legendgroup": "SVC",
         "marker": {
          "color": "#EF553B",
          "symbol": "circle"
         },
         "mode": "markers",
         "name": "SVC",
         "orientation": "v",
         "showlegend": true,
         "x": {
          "dtype": "f8",
          "bdata": "AHRAxtw9NUAAgC4xCKzhPw=="
         },
         "xaxis": "x",
         "y": {
          "dtype": "f8",
          "bdata": "np1n/DOM6D8gSh1YsWHpPw=="
         },
         "yaxis": "y",
         "type": "scatter"
        },
        {
         "customdata": [
          [
           "TFIDF_NB"
          ]
         ],
         "hovertemplate": "clf=NB<br>per_sample_ms=%{x}<br>f1_score=%{y}<br>experiment=%{customdata[0]}<extra></extra>",
         "legendgroup": "NB",
         "marker": {
          "color": "#00cc96",
          "symbol": "circle"
         },
         "mode": "markers",
         "name": "NB",
         "orientation": "v",
         "showlegend": true,
         "x": {
          "dtype": "f8",
          "bdata": "AEAuKqkT9D8="
         },
         "xaxis": "x",
         "y": {
          "dtype": "f8",
          "bdata": "v7AUM+WH6z8="
         },
         "yaxis": "y",
         "type": "scatter"
        }
       ],
       "layout": {
        "template": {
         "data": {
          "histogram2dcontour": [
           {
            "type": "histogram2dcontour",
            "colorbar": {
             "outlinewidth": 0,
             "ticks": ""
            },
            "colorscale": [
             [
              0.0,
              "#0d0887"
             ],
             [
              0.1111111111111111,
              "#46039f"
             ],
             [
              0.2222222222222222,
              "#7201a8"
             ],
             [
              0.3333333333333333,
              "#9c179e"
             ],
             [
              0.4444444444444444,
              "#bd3786"
             ],
             [
              0.5555555555555556,
              "#d8576b"
             ],
             [
              0.6666666666666666,
              "#ed7953"
             ],
             [
              0.7777777777777778,
              "#fb9f3a"
             ],
             [
              0.8888888888888888,
              "#fdca26"
             ],
             [
              1.0,
              "#f0f921"
             ]
            ]
           }
          ],
          "choropleth": [
           {
            "type": "choropleth",
            "colorbar": {
             "outlinewidth": 0,
             "ticks": ""
            }
           }
          ],
          "histogram2d": [
           {
            "type": "histogram2d",
            "colorbar": {
             "outlinewidth": 0,
             "ticks": ""
            },
            "colorscale": [
             [
              0.0,
              "#0d0887"
             ],
             [
              0.1111111111111111,
              "#46039f"
             ],
             [
              0.2222222222222222,
              "#7201a8"
             ],
             [
              0.3333333333333333,
              "#9c179e"
             ],
             [
              0.4444444444444444,
              "#bd3786"
             ],
             [
              0.5555555555555556,
              "#d8576b"
             ],
             [
              0.6666666666666666,
              "#ed7953"
             ],
             [
              0.7777777777777778,
              "#fb9f3a"
             ],
             [
              0.8888888888888888,
              "#fdca26"
             ],
             [
              1.0,
              "#f0f921"
             ]
            ]
           }
          ],
          "heatmap": [
           {
            "type": "heatmap",
            "colorbar": {
             "outlinewidth": 0,
             "ticks": ""
            },
            "colorscale": [
             [
              0.0,
              "#0d0887"
             ],
             [
              0.1111111111111111,
              "#46039f"
             ],
             [
              0.2222222222222222,
              "#7201a8"
             ],
             [
              0.3333333333333333,
              "#9c179e"
             ],
             [
              0.4444444444444444,
              "#bd3786"
             ],
             [
              0.5555555555555556,
              "#d8576b"
             ],
             [
              0.6666666666666666,
              "#ed7953"
             ],
             [
              0.7777777777777778,
              "#fb9f3a"
             ],
             [
              0.8888888888888888,
              "#fdca26"
             ],
             [
              1.0,
              "#f0f921"
             ]
            ]
           }
          ],
          "contourcarpet": [
           {
            "type": "contourcarpet",
            "colorbar": {
             "outlinewidth": 0,
             "ticks": ""
            }
           }
          ],
          "contour": [
           {
            "type": "contour",
            "colorbar": {
             "outlinewidth": 0,
             "ticks": ""
            },
            "colorscale": [
             [
              0.0,
              "#0d0887"
             ],
             [
              0.1111111111111111,
              "#46039f"
             ],
             [
              0.2222222222222222,
              "#7201a8"
             ],
             [
              0.3333333333333333,
              "#9c179e"
             ],
             [
              0.4444444444444444,
              "#bd3786"
             ],
             [
              0.5555555555555556,
              "#d8576b"
             ],
             [
              0.6666666666666666,
              "#ed7953"
             ],
             [
              0.7777777777777778,
              "#fb9f3a"
             ],
             [
              0.8888888888888888,
              "#fdca26"
             ],
             [
              1.0,
              "#f0f921"
             ]
            ]
           }
          ],
          "surface": [
           {
            "type": "surface",
            "colorbar": {
             "outlinewidth": 0,
             "ticks": ""
            },
            "colorscale": [
             [
              0.0,
              "#0d0887"
             ],
             [
              0.1111111111111111,
              "#46039f"
             ],
             [
              0.2222222222222222,
              "#7201a8"
             ],
             [
              0.3333333333333333,
              "#9c179e"
             ],
             [
              0.4444444444444444,
              "#bd3786"
             ],
             [
              0.5555555555555556,
              "#d8576b"
             ],
             [
              0.6666666666666666,
              "#ed7953"
             ],
             [
              0.7777777777777778,
              "#fb9f3a"
             ],
             [
              0.8888888888888888,
              "#fdca26"
             ],
             [
              1.0,
              "#f0f921"
             ]
            ]
           }
          ],
          "mesh3d": [
           {
            "type": "mesh3d",
            "colorbar": {
             "outlinewidth": 0,
             "ticks": ""
            }
           }
          ],
          "scatter": [
           {
            "fillpattern": {
             "fillmode": "overlay",
             "size": 10,
             "solidity": 0.2
            },
            "type": "scatter"
           }
          ],
          "parcoords": [
           {
            "type": "parcoords",
            "line": {
             "colorbar": {
              "outlinewidth": 0,
              "ticks": ""
             }
            }
           }
          ],
          "scatterpolargl": [
           {
            "type": "scatterpolargl",
            "marker": {
             "colorbar": {
              "outlinewidth": 0,
              "ticks": ""
             }
            }
           }
          ],
          "bar": [
           {
            "error_x": {
             "color": "#2a3f5f"
            },
            "error_y": {
             "color": "#2a3f5f"
            },
            "marker": {
             "line": {
              "color": "#E5ECF6",
              "width": 0.5
             },
             "pattern": {
              "fillmode": "overlay",
              "size": 10,
              "solidity": 0.2
             }
            },
            "type": "bar"
           }
          ],
          "scattergeo": [
           {
            "type": "scattergeo",
            "marker": {
             "colorbar": {
              "outlinewidth": 0,
              "ticks": ""
             }
            }
           }
          ],
          "scatterpolar": [
           {
            "type": "scatterpolar",
            "marker": {
             "colorbar": {
              "outlinewidth": 0,
              "ticks": ""
             }
            }
           }
          ],
          "histogram": [
           {
            "marker": {
             "pattern": {
              "fillmode": "overlay",
              "size": 10,
              "solidity": 0.2
             }
            },
            "type": "histogram"
           }
          ],
          "scattergl": [
           {
            "type": "scattergl",
            "marker": {
             "colorbar": {
              "outlinewidth": 0,
              "ticks": ""
             }
            }
           }
          ],
          "scatter3d": [
           {
            "type": "scatter3d",
            "line": {
             "colorbar": {
              "outlinewidth": 0,
              "ticks": ""
             }
            },
            "marker": {
             "colorbar": {
              "outlinewidth": 0,
              "ticks": ""
             }
            }
           }
          ],
          "scattermap": [
           {
            "type": "scattermap",
            "marker": {
             "colorbar": {
              "outlinewidth": 0,
              "ticks": ""
             }
            }
           }
          ],
          "scattermapbox": [
           {
            "type": "scattermapbox",
            "marker": {
             "colorbar": {
              "outlinewidth": 0,
              "ticks": ""
             }
            }
           }
          ],
          "scatterternary": [
           {
            "type": "scatterternary",
            "marker": {
             "colorbar": {
              "outlinewidth": 0,
              "ticks": ""
             }
            }
           }
          ],
          "scattercarpet": [
           {
            "type": "scattercarpet",
            "marker": {
             "colorbar": {
              "outlinewidth": 0,
              "ticks": ""
             }
            }
           }
          ],
          "carpet": [
           {
            "aaxis": {
             "endlinecolor": "#2a3f5f",
             "gridcolor": "white",
             "linecolor": "white",
             "minorgridcolor": "white",
             "startlinecolor": "#2a3f5f"
            },
            "baxis": {
             "endlinecolor": "#2a3f5f",
             "gridcolor": "white",
             "linecolor": "white",
             "minorgridcolor": "white",
             "startlinecolor": "#2a3f5f"
            },
            "type": "carpet"
           }
          ],
          "table": [
           {
            "cells": {
             "fill": {
              "color": "#EBF0F8"
             },
             "line": {
              "color": "white"
             }
            },
            "header": {
             "fill": {
              "color": "#C8D4E3"
             },
             "line": {
              "color": "white"
             }
            },
            "type": "table"
           }
          ],
          "barpolar": [
           {
            "marker": {
             "line": {
              "color": "#E5ECF6",
              "width": 0.5
             },
             "pattern": {
              "fillmode": "overlay",
              "size": 10,
              "solidity": 0.2
             }
            },
            "type": "barpolar"
           }
          ],
          "pie": [
           {
            "automargin": true,
            "type": "pie"
           }
          ]
         },
         "layout": {
          "autotypenumbers": "strict",
          "colorway": [
           "#636efa",
           "#EF553B",
           "#00cc96",
           "#ab63fa",
           "#FFA15A",
           "#19d3f3",
           "#FF6692",
           "#B6E880",
           "#FF97FF",
           "#FECB52"
          ],
          "font": {
           "color": "#2a3f5f"
          },
          "hovermode": "closest",
          "hoverlabel": {
           "align": "left"
          },
          "paper_bgcolor": "white",
          "plot_bgcolor": "#E5ECF6",
          "polar": {
           "bgcolor": "#E5ECF6",
           "angularaxis": {
            "gridcolor": "white",
            "linecolor": "white",
            "ticks": ""
           },
           "radialaxis": {
            "gridcolor": "white",
            "linecolor": "white",
            "ticks": ""
           }
          },
          "ternary": {
           "bgcolor": "#E5ECF6",
           "aaxis": {
            "gridcolor": "white",
            "linecolor": "white",
            "ticks": ""
           },
           "baxis": {
            "gridcolor": "white",
            "linecolor": "white",
            "ticks": ""
           },
           "caxis": {
            "gridcolor": "white",
            "linecolor": "white",
            "ticks": ""
           }
          },
          "coloraxis": {
           "colorbar": {
            "outlinewidth": 0,
            "ticks": ""
           }
          },
          "colorscale": {
           "sequential": [
            [
             0.0,
             "#0d0887"
            ],
            [
             0.1111111111111111,
             "#46039f"
            ],
            [
             0.2222222222222222,
             "#7201a8"
            ],
            [
             0.3333333333333333,
             "#9c179e"
            ],
            [
             0.4444444444444444,
             "#bd3786"
            ],
            [
             0.5555555555555556,
             "#d8576b"
            ],
            [
             0.6666666666666666,
             "#ed7953"
            ],
            [
             0.7777777777777778,
             "#fb9f3a"
            ],
            [
             0.8888888888888888,
             "#fdca26"
            ],
            [
             1.0,
             "#f0f921"
            ]
           ],
           "sequentialminus": [
            [
             0.0,
             "#0d0887"
            ],
            [
             0.1111111111111111,
             "#46039f"
            ],
            [
             0.2222222222222222,
             "#7201a8"
            ],
            [
             0.3333333333333333,
             "#9c179e"
            ],
            [
             0.4444444444444444,
             "#bd3786"
            ],
            [
             0.5555555555555556,
             "#d8576b"
            ],
            [
             0.6666666666666666,
             "#ed7953"
            ],
            [
             0.7777777777777778,
             "#fb9f3a"
            ],
            [
             0.8888888888888888,
             "#fdca26"
            ],
            [
             1.0,
             "#f0f921"
            ]
           ],
           "diverging": [
            [
             0,
             "#8e0152"
            ],
            [
             0.1,
             "#c51b7d"
            ],
            [
             0.2,
             "#de77ae"
            ],
            [
             0.3,
             "#f1b6da"
            ],
            [
             0.4,
             "#fde0ef"
            ],
            [
             0.5,
             "#f7f7f7"
            ],
            [
             0.6,
             "#e6f5d0"
            ],
            [
             0.7,
             "#b8e186"
            ],
            [
             0.8,
             "#7fbc41"
            ],
            [
             0.9,
             "#4d9221"
            ],
            [
             1,
             "#276419"
            ]
           ]
          },
          "xaxis": {
           "gridcolor": "white",
           "linecolor": "white",
           "ticks": "",
           "title": {
            "standoff": 15
           },
           "zerolinecolor": "white",
           "automargin": true,
           "zerolinewidth": 2
          },
          "yaxis": {
           "gridcolor": "white",
           "linecolor": "white",
           "ticks": "",
           "title": {
            "standoff": 15
           },
           "zerolinecolor": "white",
           "automargin": true,
           "zerolinewidth": 2
          },
          "scene": {
           "xaxis": {
            "backgroundcolor": "#E5ECF6",
            "gridcolor": "white",
            "linecolor": "white",
            "showbackground": true,
            "ticks": "",
            "zerolinecolor": "white",
            "gridwidth": 2
           },
           "yaxis": {
            "backgroundcolor": "#E5ECF6",
            "gridcolor": "white",
            "linecolor": "white",
            "showbackground": true,
            "ticks": "",
            "zerolinecolor": "white",
            "gridwidth": 2
           },
           "zaxis": {
            "backgroundcolor": "#E5ECF6",
            "gridcolor": "white",
            "linecolor": "white",
            "showbackground": true,
            "ticks": "",
            "zerolinecolor": "white",
            "gridwidth": 2
           }
          },
          "shapedefaults": {
           "line": {
            "color": "#2a3f5f"
           }
          },
          "annotationdefaults": {
           "arrowcolor": "#2a3f5f",
           "arrowhead": 0,
           "arrowwidth": 1
          },
          "geo": {
           "bgcolor": "white",
           "landcolor": "#E5ECF6",
           "subunitcolor": "white",
           "showland": true,
           "showlakes": true,
           "lakecolor": "white"
          },
          "title": {
           "x": 0.05
          },
          "mapbox": {
           "style": "light"
          }
         }
        },
        "xaxis": {
         "anchor": "y",
         "domain": [
          0.0,
          1.0
         ],
         "title": {
          "text": "per_sample_ms"
         },
         "type": "log"
        },
        "yaxis": {
         "anchor": "x",
         "domain": [
          0.0,
          1.0
         ],
         "title": {
          "text": "f1_score"
         }
        },
        "legend": {
         "title": {
          "text": "clf"
         },
         "tracegroupgap": 0
        },
        "margin": {
         "t": 60
        },
        "width": 800,
        "height": 600
       },
       "config": {
        "plotlyServerURL": "https://plot.ly"
       }
      }
     },
     "metadata": {},
     "output_type": "display_data"
    }
   ],
   "execution_count": 44
  }
 ],
 "metadata": {
  "kernelspec": {
   "display_name": "Python 3",
   "language": "python",
   "name": "python3"
  },
  "language_info": {
   "codemirror_mode": {
    "name": "ipython",
    "version": 2
   },
   "file_extension": ".py",
   "mimetype": "text/x-python",
   "name": "python",
   "nbconvert_exporter": "python",
   "pygments_lexer": "ipython2",
   "version": "2.7.6"
  }
 },
 "nbformat": 4,
 "nbformat_minor": 5
}

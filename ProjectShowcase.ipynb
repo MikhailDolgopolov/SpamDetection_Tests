{
 "cells": [
  {
   "metadata": {},
   "cell_type": "markdown",
   "source": [
    "# Email Spam Detection Pipeline\n",
    "\n",
    "This notebook demonstrates how a **single Python package** (`src/`) can\n",
    "handle:\n",
    "\n",
    "* configuration via YAML\n",
    "* data loading & merging\n",
    "* pipeline construction + hyper‑parameter search\n",
    "* evaluation and model persistence\n",
    "\n",
    "The core script is `run.py` – the notebook simply calls the same helper\n",
    "functions, but with added visualisation.  The code structure follows:\n"
   ],
   "id": "f71ce2cc932442d3"
  },
  {
   "metadata": {},
   "cell_type": "markdown",
   "source": [
    "src\n",
    "\n",
    "├── init.py\n",
    "\n",
    "├── config.py  # load_experiment_config & helpers\n",
    "\n",
    "├── data_loader.py  # download_and_merge / split\n",
    "\n",
    "├── model_builder.py  # build_pipeline + build_grid_search\n",
    "\n",
    "└── trainer.py  # fit_and_evaluate + save_model"
   ],
   "id": "a000df282c551543"
  },
  {
   "metadata": {},
   "cell_type": "markdown",
   "source": [
    "\n",
    "The experiments live in `experiments/<run_XX>/` – each run has its own folder with a config file and results."
   ],
   "id": "37f104d2307dc1d7"
  },
  {
   "metadata": {
    "ExecuteTime": {
     "end_time": "2025-08-13T05:05:13.059370Z",
     "start_time": "2025-08-13T05:05:13.053990Z"
    }
   },
   "cell_type": "code",
   "source": [
    "# ---- Imports --------------------------------------------------------------\n",
    "import json\n",
    "from pathlib import Path\n",
    "from glob import glob\n",
    "from typing import Dict, Any, List\n",
    "\n",
    "import matplotlib.pyplot as plt\n",
    "import numpy as np\n",
    "import pandas as pd\n",
    "import seaborn as sns\n",
    "\n",
    "\n",
    "pd.set_option(\"display.max_colwidth\", None)\n",
    "pd.set_option(\"display.max_seq_items\", None)        # shows every element in a list/tuple\n",
    "\n",
    "pd.set_option(\"display.expand_frame_repr\", False)"
   ],
   "id": "ed3c53825a607fef",
   "outputs": [],
   "execution_count": 29
  },
  {
   "metadata": {
    "ExecuteTime": {
     "end_time": "2025-08-13T07:55:46.997089Z",
     "start_time": "2025-08-13T07:55:46.960495Z"
    }
   },
   "cell_type": "code",
   "source": [
    "from src.utils import load_json\n",
    "\n",
    "final_dirs = Path(\"experiments/\").glob(\"*/final\")\n",
    "rows: List[Dict[str, Any]] = []\n",
    "for final_dir in final_dirs:\n",
    "    exp_dir = final_dir.parent\n",
    "    name = exp_dir.name\n",
    "    training_metrics = load_json(final_dir / \"train_metrics.json\") or load_json(final_dir / \"training_metrics.json\")\n",
    "    inference_metrics = load_json(final_dir / \"inference_metrics.json\")\n",
    "    results = load_json(exp_dir / \"results.json\")  # original grid search results, optional\n",
    "    best_params = load_json(exp_dir / \"best_params.json\")\n",
    "\n",
    "    row: Dict[str, Any] = {\"experiment\": name}\n",
    "\n",
    "    if training_metrics:\n",
    "        # row[\"train_total_sec\"] = training_metrics.get(\"total_training_time_sec\")\n",
    "        row[\"train_sps\"] = training_metrics.get(\"time_per_sample_sec\")\n",
    "        # row[\"n_train_samples\"] = training_metrics.get(\"num_samples\")\n",
    "        row[\"model_size_mb\"] = training_metrics.get(\"model_file_size_mb\")\n",
    "        \n",
    "        report = training_metrics.get(\"overfit_classification_report\")\n",
    "        row[\"train_accuracy\"] = report.get(\"accuracy\", np.nan)\n",
    "        row[\"train_weighted_f1\"] = report.get(\"weighted avg\", {}).get(\"f1-score\", np.nan)\n",
    "        # row[\"train_macro_f1\"] = report.get(\"macro avg\", {}).get(\"f1-score\", np.nan)\n",
    "\n",
    "    if inference_metrics:\n",
    "        # row[\"val_auc\"] = inference_metrics.get(\"auc\", np.nan)\n",
    "        row[\"per_sample_ms\"] = inference_metrics.get(\"per_sample_median_ms\", np.nan)\n",
    "\n",
    "        report = inference_metrics.get(\"classification_report\", {})\n",
    "        row[\"val_accuracy\"] = report.get(\"accuracy\", np.nan)\n",
    "        row[\"val_weighted_f1\"] = report.get(\"weighted avg\", {}).get(\"f1-score\", np.nan)\n",
    "\n",
    "    rows.append(row)\n",
    "\n",
    "\n",
    "results_df = pd.DataFrame(rows)\n",
    "results_df[\"clf\"] = results_df[\"experiment\"].apply(lambda x: x.split(\"_\")[1])\n",
    "results_df[\"f1_score\"] = results_df[\"val_weighted_f1\"]/results_df[\"train_weighted_f1\"]\n",
    "results_df[\"acc_score\"] = results_df[\"val_accuracy\"]/results_df[\"train_accuracy\"]\n",
    "results_df.style.background_gradient(cmap=\"viridis\").set_properties(**{'font-size': '10px'})"
   ],
   "id": "8258a97d3caf5f",
   "outputs": [
    {
     "data": {
      "text/plain": [
       "<pandas.io.formats.style.Styler at 0x25d83413450>"
      ],
      "text/html": [
       "<style type=\"text/css\">\n",
       "#T_d2f8c_row0_col0, #T_d2f8c_row0_col8, #T_d2f8c_row1_col0, #T_d2f8c_row1_col8, #T_d2f8c_row2_col0, #T_d2f8c_row2_col8, #T_d2f8c_row3_col0, #T_d2f8c_row3_col8, #T_d2f8c_row4_col0, #T_d2f8c_row4_col8 {\n",
       "  font-size: 10px;\n",
       "}\n",
       "#T_d2f8c_row0_col1 {\n",
       "  background-color: #482071;\n",
       "  color: #f1f1f1;\n",
       "  font-size: 10px;\n",
       "}\n",
       "#T_d2f8c_row0_col2, #T_d2f8c_row2_col2 {\n",
       "  background-color: #414287;\n",
       "  color: #f1f1f1;\n",
       "  font-size: 10px;\n",
       "}\n",
       "#T_d2f8c_row0_col3, #T_d2f8c_row0_col4, #T_d2f8c_row1_col9, #T_d2f8c_row1_col10, #T_d2f8c_row2_col6, #T_d2f8c_row2_col7, #T_d2f8c_row3_col1, #T_d2f8c_row3_col2, #T_d2f8c_row4_col1, #T_d2f8c_row4_col5 {\n",
       "  background-color: #440154;\n",
       "  color: #f1f1f1;\n",
       "  font-size: 10px;\n",
       "}\n",
       "#T_d2f8c_row0_col5 {\n",
       "  background-color: #472f7d;\n",
       "  color: #f1f1f1;\n",
       "  font-size: 10px;\n",
       "}\n",
       "#T_d2f8c_row0_col6, #T_d2f8c_row1_col6 {\n",
       "  background-color: #481467;\n",
       "  color: #f1f1f1;\n",
       "  font-size: 10px;\n",
       "}\n",
       "#T_d2f8c_row0_col7, #T_d2f8c_row1_col7 {\n",
       "  background-color: #471365;\n",
       "  color: #f1f1f1;\n",
       "  font-size: 10px;\n",
       "}\n",
       "#T_d2f8c_row0_col9, #T_d2f8c_row0_col10 {\n",
       "  background-color: #481a6c;\n",
       "  color: #f1f1f1;\n",
       "  font-size: 10px;\n",
       "}\n",
       "#T_d2f8c_row1_col1, #T_d2f8c_row1_col2, #T_d2f8c_row1_col5, #T_d2f8c_row3_col6, #T_d2f8c_row3_col7, #T_d2f8c_row3_col9, #T_d2f8c_row3_col10, #T_d2f8c_row4_col3, #T_d2f8c_row4_col4 {\n",
       "  background-color: #fde725;\n",
       "  color: #000000;\n",
       "  font-size: 10px;\n",
       "}\n",
       "#T_d2f8c_row1_col3, #T_d2f8c_row1_col4 {\n",
       "  background-color: #cae11f;\n",
       "  color: #000000;\n",
       "  font-size: 10px;\n",
       "}\n",
       "#T_d2f8c_row2_col1 {\n",
       "  background-color: #482374;\n",
       "  color: #f1f1f1;\n",
       "  font-size: 10px;\n",
       "}\n",
       "#T_d2f8c_row2_col3, #T_d2f8c_row2_col4 {\n",
       "  background-color: #460a5d;\n",
       "  color: #f1f1f1;\n",
       "  font-size: 10px;\n",
       "}\n",
       "#T_d2f8c_row2_col5 {\n",
       "  background-color: #472e7c;\n",
       "  color: #f1f1f1;\n",
       "  font-size: 10px;\n",
       "}\n",
       "#T_d2f8c_row2_col9, #T_d2f8c_row2_col10 {\n",
       "  background-color: #450559;\n",
       "  color: #f1f1f1;\n",
       "  font-size: 10px;\n",
       "}\n",
       "#T_d2f8c_row3_col3, #T_d2f8c_row3_col4 {\n",
       "  background-color: #56c667;\n",
       "  color: #000000;\n",
       "  font-size: 10px;\n",
       "}\n",
       "#T_d2f8c_row3_col5 {\n",
       "  background-color: #440256;\n",
       "  color: #f1f1f1;\n",
       "  font-size: 10px;\n",
       "}\n",
       "#T_d2f8c_row4_col2 {\n",
       "  background-color: #470d60;\n",
       "  color: #f1f1f1;\n",
       "  font-size: 10px;\n",
       "}\n",
       "#T_d2f8c_row4_col6 {\n",
       "  background-color: #2c738e;\n",
       "  color: #f1f1f1;\n",
       "  font-size: 10px;\n",
       "}\n",
       "#T_d2f8c_row4_col7 {\n",
       "  background-color: #31688e;\n",
       "  color: #f1f1f1;\n",
       "  font-size: 10px;\n",
       "}\n",
       "#T_d2f8c_row4_col9 {\n",
       "  background-color: #365d8d;\n",
       "  color: #f1f1f1;\n",
       "  font-size: 10px;\n",
       "}\n",
       "#T_d2f8c_row4_col10 {\n",
       "  background-color: #30698e;\n",
       "  color: #f1f1f1;\n",
       "  font-size: 10px;\n",
       "}\n",
       "</style>\n",
       "<table id=\"T_d2f8c\">\n",
       "  <thead>\n",
       "    <tr>\n",
       "      <th class=\"blank level0\" >&nbsp;</th>\n",
       "      <th id=\"T_d2f8c_level0_col0\" class=\"col_heading level0 col0\" >experiment</th>\n",
       "      <th id=\"T_d2f8c_level0_col1\" class=\"col_heading level0 col1\" >train_sps</th>\n",
       "      <th id=\"T_d2f8c_level0_col2\" class=\"col_heading level0 col2\" >model_size_mb</th>\n",
       "      <th id=\"T_d2f8c_level0_col3\" class=\"col_heading level0 col3\" >train_accuracy</th>\n",
       "      <th id=\"T_d2f8c_level0_col4\" class=\"col_heading level0 col4\" >train_weighted_f1</th>\n",
       "      <th id=\"T_d2f8c_level0_col5\" class=\"col_heading level0 col5\" >per_sample_ms</th>\n",
       "      <th id=\"T_d2f8c_level0_col6\" class=\"col_heading level0 col6\" >val_accuracy</th>\n",
       "      <th id=\"T_d2f8c_level0_col7\" class=\"col_heading level0 col7\" >val_weighted_f1</th>\n",
       "      <th id=\"T_d2f8c_level0_col8\" class=\"col_heading level0 col8\" >clf</th>\n",
       "      <th id=\"T_d2f8c_level0_col9\" class=\"col_heading level0 col9\" >f1_score</th>\n",
       "      <th id=\"T_d2f8c_level0_col10\" class=\"col_heading level0 col10\" >acc_score</th>\n",
       "    </tr>\n",
       "  </thead>\n",
       "  <tbody>\n",
       "    <tr>\n",
       "      <th id=\"T_d2f8c_level0_row0\" class=\"row_heading level0 row0\" >0</th>\n",
       "      <td id=\"T_d2f8c_row0_col0\" class=\"data row0 col0\" >minisbert_LogReg</td>\n",
       "      <td id=\"T_d2f8c_row0_col1\" class=\"data row0 col1\" >0.008305</td>\n",
       "      <td id=\"T_d2f8c_row0_col2\" class=\"data row0 col2\" >87.163617</td>\n",
       "      <td id=\"T_d2f8c_row0_col3\" class=\"data row0 col3\" >0.991022</td>\n",
       "      <td id=\"T_d2f8c_row0_col4\" class=\"data row0 col4\" >0.990979</td>\n",
       "      <td id=\"T_d2f8c_row0_col5\" class=\"data row0 col5\" >21.717700</td>\n",
       "      <td id=\"T_d2f8c_row0_col6\" class=\"data row0 col6\" >0.764000</td>\n",
       "      <td id=\"T_d2f8c_row0_col7\" class=\"data row0 col7\" >0.765298</td>\n",
       "      <td id=\"T_d2f8c_row0_col8\" class=\"data row0 col8\" >LogReg</td>\n",
       "      <td id=\"T_d2f8c_row0_col9\" class=\"data row0 col9\" >0.772264</td>\n",
       "      <td id=\"T_d2f8c_row0_col10\" class=\"data row0 col10\" >0.770921</td>\n",
       "    </tr>\n",
       "    <tr>\n",
       "      <th id=\"T_d2f8c_level0_row1\" class=\"row_heading level0 row1\" >1</th>\n",
       "      <td id=\"T_d2f8c_row1_col0\" class=\"data row1 col0\" >SBERT_LogReg</td>\n",
       "      <td id=\"T_d2f8c_row1_col1\" class=\"data row1 col1\" >0.091880</td>\n",
       "      <td id=\"T_d2f8c_row1_col2\" class=\"data row1 col2\" >418.211255</td>\n",
       "      <td id=\"T_d2f8c_row1_col3\" class=\"data row1 col3\" >0.999291</td>\n",
       "      <td id=\"T_d2f8c_row1_col4\" class=\"data row1 col4\" >0.999291</td>\n",
       "      <td id=\"T_d2f8c_row1_col5\" class=\"data row1 col5\" >157.739900</td>\n",
       "      <td id=\"T_d2f8c_row1_col6\" class=\"data row1 col6\" >0.764000</td>\n",
       "      <td id=\"T_d2f8c_row1_col7\" class=\"data row1 col7\" >0.765191</td>\n",
       "      <td id=\"T_d2f8c_row1_col8\" class=\"data row1 col8\" >LogReg</td>\n",
       "      <td id=\"T_d2f8c_row1_col9\" class=\"data row1 col9\" >0.765734</td>\n",
       "      <td id=\"T_d2f8c_row1_col10\" class=\"data row1 col10\" >0.764542</td>\n",
       "    </tr>\n",
       "    <tr>\n",
       "      <th id=\"T_d2f8c_level0_row2\" class=\"row_heading level0 row2\" >2</th>\n",
       "      <td id=\"T_d2f8c_row2_col0\" class=\"data row2 col0\" >sbert_SVC</td>\n",
       "      <td id=\"T_d2f8c_row2_col1\" class=\"data row2 col1\" >0.009074</td>\n",
       "      <td id=\"T_d2f8c_row2_col2\" class=\"data row2 col2\" >87.164929</td>\n",
       "      <td id=\"T_d2f8c_row2_col3\" class=\"data row2 col3\" >0.991258</td>\n",
       "      <td id=\"T_d2f8c_row2_col4\" class=\"data row2 col4\" >0.991219</td>\n",
       "      <td id=\"T_d2f8c_row2_col5\" class=\"data row2 col5\" >21.241650</td>\n",
       "      <td id=\"T_d2f8c_row2_col6\" class=\"data row2 col6\" >0.759000</td>\n",
       "      <td id=\"T_d2f8c_row2_col7\" class=\"data row2 col7\" >0.760379</td>\n",
       "      <td id=\"T_d2f8c_row2_col8\" class=\"data row2 col8\" >SVC</td>\n",
       "      <td id=\"T_d2f8c_row2_col9\" class=\"data row2 col9\" >0.767115</td>\n",
       "      <td id=\"T_d2f8c_row2_col10\" class=\"data row2 col10\" >0.765694</td>\n",
       "    </tr>\n",
       "    <tr>\n",
       "      <th id=\"T_d2f8c_level0_row3\" class=\"row_heading level0 row3\" >3</th>\n",
       "      <td id=\"T_d2f8c_row3_col0\" class=\"data row3 col0\" >TFIDF_NB</td>\n",
       "      <td id=\"T_d2f8c_row3_col1\" class=\"data row3 col1\" >0.000227</td>\n",
       "      <td id=\"T_d2f8c_row3_col2\" class=\"data row3 col2\" >5.247895</td>\n",
       "      <td id=\"T_d2f8c_row3_col3\" class=\"data row3 col3\" >0.997637</td>\n",
       "      <td id=\"T_d2f8c_row3_col4\" class=\"data row3 col4\" >0.997630</td>\n",
       "      <td id=\"T_d2f8c_row3_col5\" class=\"data row3 col5\" >1.254800</td>\n",
       "      <td id=\"T_d2f8c_row3_col6\" class=\"data row3 col6\" >0.856000</td>\n",
       "      <td id=\"T_d2f8c_row3_col7\" class=\"data row3 col7\" >0.858300</td>\n",
       "      <td id=\"T_d2f8c_row3_col8\" class=\"data row3 col8\" >NB</td>\n",
       "      <td id=\"T_d2f8c_row3_col9\" class=\"data row3 col9\" >0.860339</td>\n",
       "      <td id=\"T_d2f8c_row3_col10\" class=\"data row3 col10\" >0.858027</td>\n",
       "    </tr>\n",
       "    <tr>\n",
       "      <th id=\"T_d2f8c_level0_row4\" class=\"row_heading level0 row4\" >4</th>\n",
       "      <td id=\"T_d2f8c_row4_col0\" class=\"data row4 col0\" >TFIDF_SVC</td>\n",
       "      <td id=\"T_d2f8c_row4_col1\" class=\"data row4 col1\" >0.000490</td>\n",
       "      <td id=\"T_d2f8c_row4_col2\" class=\"data row4 col2\" >19.200761</td>\n",
       "      <td id=\"T_d2f8c_row4_col3\" class=\"data row4 col3\" >1.000000</td>\n",
       "      <td id=\"T_d2f8c_row4_col4\" class=\"data row4 col4\" >1.000000</td>\n",
       "      <td id=\"T_d2f8c_row4_col5\" class=\"data row4 col5\" >0.552250</td>\n",
       "      <td id=\"T_d2f8c_row4_col6\" class=\"data row4 col6\" >0.796000</td>\n",
       "      <td id=\"T_d2f8c_row4_col7\" class=\"data row4 col7\" >0.793175</td>\n",
       "      <td id=\"T_d2f8c_row4_col8\" class=\"data row4 col8\" >SVC</td>\n",
       "      <td id=\"T_d2f8c_row4_col9\" class=\"data row4 col9\" >0.793175</td>\n",
       "      <td id=\"T_d2f8c_row4_col10\" class=\"data row4 col10\" >0.796000</td>\n",
       "    </tr>\n",
       "  </tbody>\n",
       "</table>\n"
      ]
     },
     "execution_count": 42,
     "metadata": {},
     "output_type": "execute_result"
    }
   ],
   "execution_count": 42
  },
  {
   "metadata": {},
   "cell_type": "code",
   "outputs": [],
   "execution_count": null,
   "source": "",
   "id": "2c506e66aad692a1"
  },
  {
   "metadata": {
    "ExecuteTime": {
     "end_time": "2025-08-13T05:26:34.310817Z",
     "start_time": "2025-08-13T05:26:34.265898Z"
    }
   },
   "cell_type": "code",
   "source": [
    "import plotly.express as px\n",
    "\n",
    "# df: your summary dataframe with columns 'model_size_mb_train' and 'val_accuracy'\n",
    "fig = px.scatter(\n",
    "    results_df,\n",
    "    x='per_sample_ms',\n",
    "    y='f1_score',\n",
    "    # size='model_size_mb',\n",
    "    color='clf',\n",
    "    hover_data=['experiment'],  # show name on hover\n",
    "\n",
    "\n",
    ")\n",
    "fig.update_xaxes(type=\"log\")\n",
    "fig.update_layout(width=800, height=600)\n",
    "fig.show()"
   ],
   "id": "89021c7d22a90fd5",
   "outputs": [
    {
     "data": {
      "application/vnd.plotly.v1+json": {
       "data": [
        {
         "customdata": [
          [
           "minisbert_LogReg"
          ],
          [
           "SBERT_LogReg"
          ]
         ],
         "hovertemplate": "clf=LogReg<br>per_sample_ms=%{x}<br>f1_score=%{y}<br>experiment=%{customdata[0]}<extra></extra>",
         "legendgroup": "LogReg",
         "marker": {
          "color": "#636efa",
          "symbol": "circle"
         },
         "mode": "markers",
         "name": "LogReg",
         "orientation": "v",
         "showlegend": true,
         "x": {
          "dtype": "f8",
          "bdata": "ACTsL7u3NUCA7MNCrbdjQA=="
         },
         "xaxis": "x",
         "y": {
          "dtype": "f8",
          "bdata": "WsJJxGO26D9dsfpy5IDoPw=="
         },
         "yaxis": "y",
         "type": "scatter"
        },
        {
         "customdata": [
          [
           "sbert_SVC"
          ],
          [
           "TFIDF_SVC"
          ]
         ],
         "hovertemplate": "clf=SVC<br>per_sample_ms=%{x}<br>f1_score=%{y}<br>experiment=%{customdata[0]}<extra></extra>",
         "legendgroup": "SVC",
         "marker": {
          "color": "#EF553B",
          "symbol": "circle"
         },
         "mode": "markers",
         "name": "SVC",
         "orientation": "v",
         "showlegend": true,
         "x": {
          "dtype": "f8",
          "bdata": "AHRAxtw9NUAAgC4xCKzhPw=="
         },
         "xaxis": "x",
         "y": {
          "dtype": "f8",
          "bdata": "np1n/DOM6D8gSh1YsWHpPw=="
         },
         "yaxis": "y",
         "type": "scatter"
        },
        {
         "customdata": [
          [
           "TFIDF_NB"
          ]
         ],
         "hovertemplate": "clf=NB<br>per_sample_ms=%{x}<br>f1_score=%{y}<br>experiment=%{customdata[0]}<extra></extra>",
         "legendgroup": "NB",
         "marker": {
          "color": "#00cc96",
          "symbol": "circle"
         },
         "mode": "markers",
         "name": "NB",
         "orientation": "v",
         "showlegend": true,
         "x": {
          "dtype": "f8",
          "bdata": "AEAuKqkT9D8="
         },
         "xaxis": "x",
         "y": {
          "dtype": "f8",
          "bdata": "v7AUM+WH6z8="
         },
         "yaxis": "y",
         "type": "scatter"
        }
       ],
       "layout": {
        "template": {
         "data": {
          "histogram2dcontour": [
           {
            "type": "histogram2dcontour",
            "colorbar": {
             "outlinewidth": 0,
             "ticks": ""
            },
            "colorscale": [
             [
              0.0,
              "#0d0887"
             ],
             [
              0.1111111111111111,
              "#46039f"
             ],
             [
              0.2222222222222222,
              "#7201a8"
             ],
             [
              0.3333333333333333,
              "#9c179e"
             ],
             [
              0.4444444444444444,
              "#bd3786"
             ],
             [
              0.5555555555555556,
              "#d8576b"
             ],
             [
              0.6666666666666666,
              "#ed7953"
             ],
             [
              0.7777777777777778,
              "#fb9f3a"
             ],
             [
              0.8888888888888888,
              "#fdca26"
             ],
             [
              1.0,
              "#f0f921"
             ]
            ]
           }
          ],
          "choropleth": [
           {
            "type": "choropleth",
            "colorbar": {
             "outlinewidth": 0,
             "ticks": ""
            }
           }
          ],
          "histogram2d": [
           {
            "type": "histogram2d",
            "colorbar": {
             "outlinewidth": 0,
             "ticks": ""
            },
            "colorscale": [
             [
              0.0,
              "#0d0887"
             ],
             [
              0.1111111111111111,
              "#46039f"
             ],
             [
              0.2222222222222222,
              "#7201a8"
             ],
             [
              0.3333333333333333,
              "#9c179e"
             ],
             [
              0.4444444444444444,
              "#bd3786"
             ],
             [
              0.5555555555555556,
              "#d8576b"
             ],
             [
              0.6666666666666666,
              "#ed7953"
             ],
             [
              0.7777777777777778,
              "#fb9f3a"
             ],
             [
              0.8888888888888888,
              "#fdca26"
             ],
             [
              1.0,
              "#f0f921"
             ]
            ]
           }
          ],
          "heatmap": [
           {
            "type": "heatmap",
            "colorbar": {
             "outlinewidth": 0,
             "ticks": ""
            },
            "colorscale": [
             [
              0.0,
              "#0d0887"
             ],
             [
              0.1111111111111111,
              "#46039f"
             ],
             [
              0.2222222222222222,
              "#7201a8"
             ],
             [
              0.3333333333333333,
              "#9c179e"
             ],
             [
              0.4444444444444444,
              "#bd3786"
             ],
             [
              0.5555555555555556,
              "#d8576b"
             ],
             [
              0.6666666666666666,
              "#ed7953"
             ],
             [
              0.7777777777777778,
              "#fb9f3a"
             ],
             [
              0.8888888888888888,
              "#fdca26"
             ],
             [
              1.0,
              "#f0f921"
             ]
            ]
           }
          ],
          "contourcarpet": [
           {
            "type": "contourcarpet",
            "colorbar": {
             "outlinewidth": 0,
             "ticks": ""
            }
           }
          ],
          "contour": [
           {
            "type": "contour",
            "colorbar": {
             "outlinewidth": 0,
             "ticks": ""
            },
            "colorscale": [
             [
              0.0,
              "#0d0887"
             ],
             [
              0.1111111111111111,
              "#46039f"
             ],
             [
              0.2222222222222222,
              "#7201a8"
             ],
             [
              0.3333333333333333,
              "#9c179e"
             ],
             [
              0.4444444444444444,
              "#bd3786"
             ],
             [
              0.5555555555555556,
              "#d8576b"
             ],
             [
              0.6666666666666666,
              "#ed7953"
             ],
             [
              0.7777777777777778,
              "#fb9f3a"
             ],
             [
              0.8888888888888888,
              "#fdca26"
             ],
             [
              1.0,
              "#f0f921"
             ]
            ]
           }
          ],
          "surface": [
           {
            "type": "surface",
            "colorbar": {
             "outlinewidth": 0,
             "ticks": ""
            },
            "colorscale": [
             [
              0.0,
              "#0d0887"
             ],
             [
              0.1111111111111111,
              "#46039f"
             ],
             [
              0.2222222222222222,
              "#7201a8"
             ],
             [
              0.3333333333333333,
              "#9c179e"
             ],
             [
              0.4444444444444444,
              "#bd3786"
             ],
             [
              0.5555555555555556,
              "#d8576b"
             ],
             [
              0.6666666666666666,
              "#ed7953"
             ],
             [
              0.7777777777777778,
              "#fb9f3a"
             ],
             [
              0.8888888888888888,
              "#fdca26"
             ],
             [
              1.0,
              "#f0f921"
             ]
            ]
           }
          ],
          "mesh3d": [
           {
            "type": "mesh3d",
            "colorbar": {
             "outlinewidth": 0,
             "ticks": ""
            }
           }
          ],
          "scatter": [
           {
            "fillpattern": {
             "fillmode": "overlay",
             "size": 10,
             "solidity": 0.2
            },
            "type": "scatter"
           }
          ],
          "parcoords": [
           {
            "type": "parcoords",
            "line": {
             "colorbar": {
              "outlinewidth": 0,
              "ticks": ""
             }
            }
           }
          ],
          "scatterpolargl": [
           {
            "type": "scatterpolargl",
            "marker": {
             "colorbar": {
              "outlinewidth": 0,
              "ticks": ""
             }
            }
           }
          ],
          "bar": [
           {
            "error_x": {
             "color": "#2a3f5f"
            },
            "error_y": {
             "color": "#2a3f5f"
            },
            "marker": {
             "line": {
              "color": "#E5ECF6",
              "width": 0.5
             },
             "pattern": {
              "fillmode": "overlay",
              "size": 10,
              "solidity": 0.2
             }
            },
            "type": "bar"
           }
          ],
          "scattergeo": [
           {
            "type": "scattergeo",
            "marker": {
             "colorbar": {
              "outlinewidth": 0,
              "ticks": ""
             }
            }
           }
          ],
          "scatterpolar": [
           {
            "type": "scatterpolar",
            "marker": {
             "colorbar": {
              "outlinewidth": 0,
              "ticks": ""
             }
            }
           }
          ],
          "histogram": [
           {
            "marker": {
             "pattern": {
              "fillmode": "overlay",
              "size": 10,
              "solidity": 0.2
             }
            },
            "type": "histogram"
           }
          ],
          "scattergl": [
           {
            "type": "scattergl",
            "marker": {
             "colorbar": {
              "outlinewidth": 0,
              "ticks": ""
             }
            }
           }
          ],
          "scatter3d": [
           {
            "type": "scatter3d",
            "line": {
             "colorbar": {
              "outlinewidth": 0,
              "ticks": ""
             }
            },
            "marker": {
             "colorbar": {
              "outlinewidth": 0,
              "ticks": ""
             }
            }
           }
          ],
          "scattermap": [
           {
            "type": "scattermap",
            "marker": {
             "colorbar": {
              "outlinewidth": 0,
              "ticks": ""
             }
            }
           }
          ],
          "scattermapbox": [
           {
            "type": "scattermapbox",
            "marker": {
             "colorbar": {
              "outlinewidth": 0,
              "ticks": ""
             }
            }
           }
          ],
          "scatterternary": [
           {
            "type": "scatterternary",
            "marker": {
             "colorbar": {
              "outlinewidth": 0,
              "ticks": ""
             }
            }
           }
          ],
          "scattercarpet": [
           {
            "type": "scattercarpet",
            "marker": {
             "colorbar": {
              "outlinewidth": 0,
              "ticks": ""
             }
            }
           }
          ],
          "carpet": [
           {
            "aaxis": {
             "endlinecolor": "#2a3f5f",
             "gridcolor": "white",
             "linecolor": "white",
             "minorgridcolor": "white",
             "startlinecolor": "#2a3f5f"
            },
            "baxis": {
             "endlinecolor": "#2a3f5f",
             "gridcolor": "white",
             "linecolor": "white",
             "minorgridcolor": "white",
             "startlinecolor": "#2a3f5f"
            },
            "type": "carpet"
           }
          ],
          "table": [
           {
            "cells": {
             "fill": {
              "color": "#EBF0F8"
             },
             "line": {
              "color": "white"
             }
            },
            "header": {
             "fill": {
              "color": "#C8D4E3"
             },
             "line": {
              "color": "white"
             }
            },
            "type": "table"
           }
          ],
          "barpolar": [
           {
            "marker": {
             "line": {
              "color": "#E5ECF6",
              "width": 0.5
             },
             "pattern": {
              "fillmode": "overlay",
              "size": 10,
              "solidity": 0.2
             }
            },
            "type": "barpolar"
           }
          ],
          "pie": [
           {
            "automargin": true,
            "type": "pie"
           }
          ]
         },
         "layout": {
          "autotypenumbers": "strict",
          "colorway": [
           "#636efa",
           "#EF553B",
           "#00cc96",
           "#ab63fa",
           "#FFA15A",
           "#19d3f3",
           "#FF6692",
           "#B6E880",
           "#FF97FF",
           "#FECB52"
          ],
          "font": {
           "color": "#2a3f5f"
          },
          "hovermode": "closest",
          "hoverlabel": {
           "align": "left"
          },
          "paper_bgcolor": "white",
          "plot_bgcolor": "#E5ECF6",
          "polar": {
           "bgcolor": "#E5ECF6",
           "angularaxis": {
            "gridcolor": "white",
            "linecolor": "white",
            "ticks": ""
           },
           "radialaxis": {
            "gridcolor": "white",
            "linecolor": "white",
            "ticks": ""
           }
          },
          "ternary": {
           "bgcolor": "#E5ECF6",
           "aaxis": {
            "gridcolor": "white",
            "linecolor": "white",
            "ticks": ""
           },
           "baxis": {
            "gridcolor": "white",
            "linecolor": "white",
            "ticks": ""
           },
           "caxis": {
            "gridcolor": "white",
            "linecolor": "white",
            "ticks": ""
           }
          },
          "coloraxis": {
           "colorbar": {
            "outlinewidth": 0,
            "ticks": ""
           }
          },
          "colorscale": {
           "sequential": [
            [
             0.0,
             "#0d0887"
            ],
            [
             0.1111111111111111,
             "#46039f"
            ],
            [
             0.2222222222222222,
             "#7201a8"
            ],
            [
             0.3333333333333333,
             "#9c179e"
            ],
            [
             0.4444444444444444,
             "#bd3786"
            ],
            [
             0.5555555555555556,
             "#d8576b"
            ],
            [
             0.6666666666666666,
             "#ed7953"
            ],
            [
             0.7777777777777778,
             "#fb9f3a"
            ],
            [
             0.8888888888888888,
             "#fdca26"
            ],
            [
             1.0,
             "#f0f921"
            ]
           ],
           "sequentialminus": [
            [
             0.0,
             "#0d0887"
            ],
            [
             0.1111111111111111,
             "#46039f"
            ],
            [
             0.2222222222222222,
             "#7201a8"
            ],
            [
             0.3333333333333333,
             "#9c179e"
            ],
            [
             0.4444444444444444,
             "#bd3786"
            ],
            [
             0.5555555555555556,
             "#d8576b"
            ],
            [
             0.6666666666666666,
             "#ed7953"
            ],
            [
             0.7777777777777778,
             "#fb9f3a"
            ],
            [
             0.8888888888888888,
             "#fdca26"
            ],
            [
             1.0,
             "#f0f921"
            ]
           ],
           "diverging": [
            [
             0,
             "#8e0152"
            ],
            [
             0.1,
             "#c51b7d"
            ],
            [
             0.2,
             "#de77ae"
            ],
            [
             0.3,
             "#f1b6da"
            ],
            [
             0.4,
             "#fde0ef"
            ],
            [
             0.5,
             "#f7f7f7"
            ],
            [
             0.6,
             "#e6f5d0"
            ],
            [
             0.7,
             "#b8e186"
            ],
            [
             0.8,
             "#7fbc41"
            ],
            [
             0.9,
             "#4d9221"
            ],
            [
             1,
             "#276419"
            ]
           ]
          },
          "xaxis": {
           "gridcolor": "white",
           "linecolor": "white",
           "ticks": "",
           "title": {
            "standoff": 15
           },
           "zerolinecolor": "white",
           "automargin": true,
           "zerolinewidth": 2
          },
          "yaxis": {
           "gridcolor": "white",
           "linecolor": "white",
           "ticks": "",
           "title": {
            "standoff": 15
           },
           "zerolinecolor": "white",
           "automargin": true,
           "zerolinewidth": 2
          },
          "scene": {
           "xaxis": {
            "backgroundcolor": "#E5ECF6",
            "gridcolor": "white",
            "linecolor": "white",
            "showbackground": true,
            "ticks": "",
            "zerolinecolor": "white",
            "gridwidth": 2
           },
           "yaxis": {
            "backgroundcolor": "#E5ECF6",
            "gridcolor": "white",
            "linecolor": "white",
            "showbackground": true,
            "ticks": "",
            "zerolinecolor": "white",
            "gridwidth": 2
           },
           "zaxis": {
            "backgroundcolor": "#E5ECF6",
            "gridcolor": "white",
            "linecolor": "white",
            "showbackground": true,
            "ticks": "",
            "zerolinecolor": "white",
            "gridwidth": 2
           }
          },
          "shapedefaults": {
           "line": {
            "color": "#2a3f5f"
           }
          },
          "annotationdefaults": {
           "arrowcolor": "#2a3f5f",
           "arrowhead": 0,
           "arrowwidth": 1
          },
          "geo": {
           "bgcolor": "white",
           "landcolor": "#E5ECF6",
           "subunitcolor": "white",
           "showland": true,
           "showlakes": true,
           "lakecolor": "white"
          },
          "title": {
           "x": 0.05
          },
          "mapbox": {
           "style": "light"
          }
         }
        },
        "xaxis": {
         "anchor": "y",
         "domain": [
          0.0,
          1.0
         ],
         "title": {
          "text": "per_sample_ms"
         },
         "type": "log"
        },
        "yaxis": {
         "anchor": "x",
         "domain": [
          0.0,
          1.0
         ],
         "title": {
          "text": "f1_score"
         }
        },
        "legend": {
         "title": {
          "text": "clf"
         },
         "tracegroupgap": 0
        },
        "margin": {
         "t": 60
        },
        "width": 800,
        "height": 600
       },
       "config": {
        "plotlyServerURL": "https://plot.ly"
       }
      }
     },
     "metadata": {},
     "output_type": "display_data"
    }
   ],
   "execution_count": 40
  }
 ],
 "metadata": {
  "kernelspec": {
   "display_name": "Python 3",
   "language": "python",
   "name": "python3"
  },
  "language_info": {
   "codemirror_mode": {
    "name": "ipython",
    "version": 2
   },
   "file_extension": ".py",
   "mimetype": "text/x-python",
   "name": "python",
   "nbconvert_exporter": "python",
   "pygments_lexer": "ipython2",
   "version": "2.7.6"
  }
 },
 "nbformat": 4,
 "nbformat_minor": 5
}

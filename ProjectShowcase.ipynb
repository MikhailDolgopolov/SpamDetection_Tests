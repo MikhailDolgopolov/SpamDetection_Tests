{
 "cells": [
  {
   "metadata": {},
   "cell_type": "markdown",
   "source": [
    "# Email Spam Detection Pipeline\n",
    "\n",
    "This notebook demonstrates how a **single Python package** (`src/`) can\n",
    "handle:\n",
    "\n",
    "* configuration via YAML\n",
    "* data loading & merging\n",
    "* pipeline construction + hyper‑parameter search\n",
    "* evaluation and model persistence\n",
    "\n",
    "The core script is `run.py` – the notebook simply calls the same helper\n",
    "functions, but with added visualisation.  The code structure follows:\n"
   ],
   "id": "f71ce2cc932442d3"
  },
  {
   "metadata": {},
   "cell_type": "markdown",
   "source": [
    "src\n",
    "\n",
    "├── init.py\n",
    "\n",
    "├── config.py  # load_experiment_config & helpers\n",
    "\n",
    "├── data_loader.py  # download_and_merge / split\n",
    "\n",
    "├── model_builder.py  # build_pipeline + build_grid_search\n",
    "\n",
    "└── trainer.py  # fit_and_evaluate + save_model"
   ],
   "id": "a000df282c551543"
  },
  {
   "metadata": {},
   "cell_type": "markdown",
   "source": [
    "\n",
    "The experiments live in `experiments/<run_XX>/` – each run has its own folder with a config file and results."
   ],
   "id": "37f104d2307dc1d7"
  },
  {
   "metadata": {
    "ExecuteTime": {
     "end_time": "2025-08-08T17:08:03.524727Z",
     "start_time": "2025-08-08T17:08:03.519725Z"
    }
   },
   "cell_type": "code",
   "source": [
    "# ---- Imports --------------------------------------------------------------\n",
    "import json\n",
    "from pathlib import Path\n",
    "from typing import Dict, Any\n",
    "\n",
    "import matplotlib.pyplot as plt\n",
    "import numpy as np\n",
    "import pandas as pd\n",
    "import seaborn as sns\n",
    "from sklearn.metrics import classification_report, confusion_matrix\n",
    "\n",
    "# Local imports – make sure the notebook is executed from the repo root\n",
    "from src.config import load_experiment_config\n",
    "from src.data_loader import download_and_merge, split\n",
    "from src.model_builder import build_grid_search, build_pipeline\n",
    "from src.trainer import fit_and_evaluate, save_model\n",
    "\n",
    "pd.set_option(\"display.max_colwidth\", None)\n",
    "pd.set_option(\"display.max_seq_items\", None)        # shows every element in a list/tuple\n",
    "\n",
    "pd.set_option(\"display.expand_frame_repr\", False)"
   ],
   "id": "ed3c53825a607fef",
   "outputs": [],
   "execution_count": 3
  },
  {
   "metadata": {
    "ExecuteTime": {
     "end_time": "2025-08-08T17:08:06.645313Z",
     "start_time": "2025-08-08T17:08:06.635114Z"
    }
   },
   "cell_type": "code",
   "source": [
    "from dataclasses import asdict\n",
    "\n",
    "# Path to the run you want to visualise\n",
    "cfg_path = Path(\"experiments/TFIDF_NB/config.yaml\")\n",
    "\n",
    "cfg = load_experiment_config(cfg_path)\n",
    "print(\"Configuration loaded:\")\n",
    "display(pd.Series(asdict(cfg)))"
   ],
   "id": "8258a97d3caf5f",
   "outputs": [
    {
     "name": "stdout",
     "output_type": "stream",
     "text": [
      "Configuration loaded:\n"
     ]
    },
    {
     "data": {
      "text/plain": [
       "datasets                                                                       [enron]\n",
       "test_size                                                                          0.2\n",
       "vectorizer                                                                       tfidf\n",
       "classifier                                                               MultinomialNB\n",
       "cv_folds                                                                             4\n",
       "scoring                                                                       f1_macro\n",
       "random_state                                                                        42\n",
       "vectorizer_params    {'tfidf__min_df': [1, 3], 'tfidf__ngram_range': [(1, 1), (1, 2)]}\n",
       "classifier_params                            {'MultinomialNB__alpha': [0.1, 0.3, 0.5]}\n",
       "dtype: object"
      ]
     },
     "metadata": {},
     "output_type": "display_data"
    }
   ],
   "execution_count": 4
  }
 ],
 "metadata": {
  "kernelspec": {
   "display_name": "Python 3",
   "language": "python",
   "name": "python3"
  },
  "language_info": {
   "codemirror_mode": {
    "name": "ipython",
    "version": 2
   },
   "file_extension": ".py",
   "mimetype": "text/x-python",
   "name": "python",
   "nbconvert_exporter": "python",
   "pygments_lexer": "ipython2",
   "version": "2.7.6"
  }
 },
 "nbformat": 4,
 "nbformat_minor": 5
}
